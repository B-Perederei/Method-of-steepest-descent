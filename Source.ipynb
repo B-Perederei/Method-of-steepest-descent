{
 "cells": [
  {
   "cell_type": "code",
   "execution_count": 70,
   "metadata": {},
   "outputs": [],
   "source": [
    "import numpy as np\n",
    "import math\n",
    "\n",
    "functionCalculated = 0\n",
    "\n",
    "def f(x):\n",
    "    x1 = x[0]\n",
    "    x2 = x[1]\n",
    "    global functionCalculated\n",
    "    functionCalculated += 1\n",
    "    return (x1-1)**2 + (x2-1)**2"
   ]
  },
  {
   "cell_type": "code",
   "execution_count": 71,
   "metadata": {},
   "outputs": [],
   "source": [
    "# print(f\"{h}, {h*np.array([1, 0])}, {h*np.array([0, 1])}\")\n",
    "def fderright(x, fx, h):\n",
    "    gradFx1 = (f(x + h*np.array([1, 0])) - fx) / h\n",
    "    gradFx2 = (f(x + h*np.array([0, 1])) - fx) / h\n",
    "    return np.array([gradFx1, gradFx2])\n",
    "\n",
    "def fderleft(x, fx, h):\n",
    "    gradFx1 = (fx - f(x - h*np.array([1, 0]))) / h\n",
    "    gradFx2 = (fx - f(x - h*np.array([0, 1]))) / h\n",
    "    return np.array([gradFx1, gradFx2])\n",
    "\n",
    "def fdercenter(x, h):\n",
    "    gradFx1 = (f(x + h*np.array([1, 0])) - f(x - h*np.array([1, 0]))) / (2*h)\n",
    "    gradFx2 = (f(x + h*np.array([0, 1])) - f(x - h*np.array([0, 1]))) / (2*h)\n",
    "    return np.array([gradFx1, gradFx2])"
   ]
  },
  {
   "cell_type": "code",
   "execution_count": 72,
   "metadata": {},
   "outputs": [],
   "source": [
    "def norm(x):\n",
    "    x1 = x[0]\n",
    "    x2 = x[1]\n",
    "    return math.sqrt(x1**2 + x2**2)\n",
    "\n",
    "def stopCriteria1(xk, fxk, xk_1, fxk_1, e):\n",
    "    if ((norm((xk_1 - xk)) / norm(xk)) <= e) and (math.fabs(fxk_1 - fxk) <= e):\n",
    "        return True\n",
    "    return False\n",
    "\n",
    "def stopCriteria2(gradFxk, e):\n",
    "    if (norm(gradFxk) <= e):\n",
    "        return True\n",
    "    return False"
   ]
  },
  {
   "cell_type": "code",
   "execution_count": 73,
   "metadata": {},
   "outputs": [
    {
     "name": "stdout",
     "output_type": "stream",
     "text": [
      "9.333809511662427: 4470.073335203986\n",
      "21.778888860545663: 4102.331115475968\n",
      "46.66904755831214: 7083.966676019931\n",
      "[0, 3.111269837220809, 9.333809511662427, 21.778888860545663, 46.66904755831214]\n",
      "[9.333809511662427, 34.223968209428904]\n"
     ]
    }
   ],
   "source": [
    "# Code for finding optimal Lambda\n",
    "functionCalculatedSven = 0\n",
    "svenCoefLambda = 0.1\n",
    "l0 = 0\n",
    "\n",
    "def f(x):\n",
    "    x1 = x[0]\n",
    "    x2 = x[1]\n",
    "    return 3*(x1-15)**2 -x1*x2 +4*x2**2\n",
    "\n",
    "def FLambda(xk, l, Sk):\n",
    "    return f(xk + l*Sk)\n",
    "\n",
    "def sven(xk, Sk):\n",
    "    deltaL = svenCoefLambda * (norm(xk) / norm(Sk))\n",
    "    FLambda0 = FLambda(xk, l0, Sk)\n",
    "    FLambdaPlus = FLambda(xk, l0+deltaL, Sk)\n",
    "    FLambdaMinus = FLambda(xk, l0-deltaL, Sk)\n",
    "    \n",
    "    coef = 0\n",
    "    if FLambda0 < FLambdaPlus and FLambda0 < FLambdaMinus:\n",
    "        raise Exception(\"Sven: both Lambdas are increasing funcion\")\n",
    "    if FLambda0 > FLambdaPlus and FLambda0 > FLambdaMinus:\n",
    "        raise Exception(\"Sven: both Lambdas are deacreasing function\")\n",
    "    if FLambda0 > FLambdaPlus:\n",
    "        coef = 1\n",
    "        currentFValue = FLambdaPlus\n",
    "        l1 = l0 + coef * deltaL\n",
    "    if FLambda0 > FLambdaMinus:\n",
    "        coef = -1\n",
    "        currentFValue = FLambdaMinus\n",
    "    \n",
    "    l1 = l0 + coef * deltaL\n",
    "    currentlValue = l1\n",
    "    lambdaValues = [l0, l1]\n",
    "    FNewLambda = 0\n",
    "    n = 1\n",
    "    while True:\n",
    "        newLambda = currentlValue + 2*n*coef * deltaL\n",
    "        lambdaValues.append(newLambda)\n",
    "        FNewLambda = FLambda(xk, newLambda, Sk)\n",
    "        # print(f\"{newLambda}: {FNewLambda}\")\n",
    "        if (currentFValue < FNewLambda):\n",
    "            break\n",
    "        currentlValue = newLambda\n",
    "        currentFValue = FNewLambda\n",
    "        n = 2*n\n",
    "    print(f\"Sven Lambdas: {lambdaValues}\")\n",
    "    return np.array([lambdaValues[-3], (lambdaValues[-2] + lambdaValues[-1]) / 2])\n",
    "\n",
    "\n",
    "sven(np.array([-22, -22]), np.array([0, 1]))\n",
    "    "
   ]
  },
  {
   "cell_type": "code",
   "execution_count": 74,
   "metadata": {},
   "outputs": [
    {
     "name": "stdout",
     "output_type": "stream",
     "text": [
      "[11.49750798  9.13541815], 1, 307, 265.5912669491328\n",
      "[10.99281217  8.27212091], 1, 265.5912669491328, 230.95072880497202\n",
      "[10.48589142  7.41012824], 1, 230.95072880497202, 203.0697309623312\n",
      "[9.97672424 6.5494606 ], 1, 203.0697309623312, 181.93947235993397\n",
      "[9.46528876 5.69013892], 1, 181.93947235993397, 167.55100111585028\n",
      "[8.95156272 4.83218463], 1, 167.55100111585028, 159.89520997807438\n",
      "[8.43552346 3.97561971], 1, 159.89520997807438, 158.96283158011164\n",
      "[7.91714791 3.12046663], 1, 158.96283158011164, 164.74443349076017\n",
      "[8.17633568 3.54804317], 0.5, 158.96283158011164, 161.03163345223373\n",
      "[8.30592957 3.76183144], 0.25, 158.96283158011164, 159.79173274537212\n",
      "[8.37072652 3.86872557], 0.125, 158.96283158011164, 159.3259072200417\n",
      "[8.40312499 3.92217264], 0.0625, 158.96283158011164, 159.13152566440164\n",
      "[8.41932422 3.94889617], 0.03125, 158.96283158011164, 159.04396768833786\n",
      "[8.42742384 3.96225794], 0.015625, 158.96283158011164, 159.00259690074503\n",
      "[8.43147365 3.96893882], 0.0078125, 158.96283158011164, 158.98251355705844\n",
      "[8.43349856 3.97227926], 0.00390625, 158.96283158011164, 158.97262239774255\n",
      "[8.43451101 3.97394948], 0.001953125, 158.96283158011164, 158.9677144462165\n",
      "[8.43501723 3.97478459], 0.0009765625, 158.96283158011164, 158.96526987748632\n",
      "[8.43527035 3.97520215], 0.00048828125, 158.96283158011164, 158.9640499448796\n",
      "[8.4353969  3.97541093], 0.000244140625, 158.96283158011164, 158.96344056651577\n",
      "[8.4353969  3.97541093]\n",
      "0\n"
     ]
    }
   ],
   "source": [
    "x0 = np.array([12, 10])\n",
    "\n",
    "h = 100\n",
    "def MOPlconst(e):\n",
    "    xk = x0\n",
    "    l = 1\n",
    "    Fxk = f(xk)\n",
    "    countGrad = True\n",
    "    while True:\n",
    "        if countGrad:\n",
    "            gradFxk = fderright(xk, Fxk, h)# fdercenter(xk, h)\n",
    "        xk_new = xk + l * (-gradFxk / norm(gradFxk))\n",
    "        Fxk_new = f(xk_new)\n",
    "        \n",
    "        print(f'{xk_new}, {l}, {Fxk}, {Fxk_new}')\n",
    "        \n",
    "        if stopCriteria1(xk, Fxk, xk_new, Fxk_new, e):\n",
    "            return xk_new\n",
    "        if (Fxk <= Fxk_new):\n",
    "            # What should I do with L?\n",
    "            l = l / 2\n",
    "            countGrad = False\n",
    "        else: \n",
    "            xk = xk_new\n",
    "            Fxk = Fxk_new\n",
    "            countGrad = True\n",
    "\n",
    "print(MOPlconst(0.001))\n",
    "print(functionCalculated)"
   ]
  }
 ],
 "metadata": {
  "kernelspec": {
   "display_name": "Python 3",
   "language": "python",
   "name": "python3"
  },
  "language_info": {
   "codemirror_mode": {
    "name": "ipython",
    "version": 3
   },
   "file_extension": ".py",
   "mimetype": "text/x-python",
   "name": "python",
   "nbconvert_exporter": "python",
   "pygments_lexer": "ipython3",
   "version": "3.10.0"
  },
  "orig_nbformat": 4
 },
 "nbformat": 4,
 "nbformat_minor": 2
}
